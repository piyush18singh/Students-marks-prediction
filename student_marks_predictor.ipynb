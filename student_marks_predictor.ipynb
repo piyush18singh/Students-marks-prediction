{
  "nbformat": 4,
  "nbformat_minor": 0,
  "metadata": {
    "colab": {
      "provenance": [],
      "toc_visible": true
    },
    "kernelspec": {
      "name": "python3",
      "display_name": "Python 3"
    },
    "language_info": {
      "name": "python"
    }
  },
  "cells": [
    {
      "cell_type": "code",
      "metadata": {
        "id": "CmuBkAwOnw8N"
      },
      "source": [
        "#importing libraries\n",
        "import numpy as np #used for mathematical calculation\n",
        "import pandas as pd  #for analysing of data \n",
        "import matplotlib.pyplot as plt # for visulaization"
      ],
      "execution_count": null,
      "outputs": []
    },
    {
      "cell_type": "code",
      "metadata": {
        "colab": {
          "base_uri": "https://localhost:8080/"
        },
        "id": "14Fc_QJeoieB",
        "outputId": "cbcc8dbd-8dd9-451d-9d0e-1c5ae4997e88"
      },
      "source": [
        "from google.colab import drive\n",
        "drive.mount('/content/drive')"
      ],
      "execution_count": null,
      "outputs": [
        {
          "output_type": "stream",
          "text": [
            "Mounted at /content/drive\n"
          ],
          "name": "stdout"
        }
      ]
    },
    {
      "cell_type": "code",
      "metadata": {
        "id": "MmTuYwUgpcrW"
      },
      "source": [
        "df = pd.read_csv('/content/drive/MyDrive/student.data.csv')"
      ],
      "execution_count": null,
      "outputs": []
    },
    {
      "cell_type": "code",
      "metadata": {
        "colab": {
          "base_uri": "https://localhost:8080/",
          "height": 195
        },
        "id": "DISPj0YPptm9",
        "outputId": "c907fc7b-7b7a-4440-a783-e6d675df7ff3"
      },
      "source": [
        "df.head()"
      ],
      "execution_count": null,
      "outputs": [
        {
          "output_type": "execute_result",
          "data": {
            "text/html": [
              "<div>\n",
              "<style scoped>\n",
              "    .dataframe tbody tr th:only-of-type {\n",
              "        vertical-align: middle;\n",
              "    }\n",
              "\n",
              "    .dataframe tbody tr th {\n",
              "        vertical-align: top;\n",
              "    }\n",
              "\n",
              "    .dataframe thead th {\n",
              "        text-align: right;\n",
              "    }\n",
              "</style>\n",
              "<table border=\"1\" class=\"dataframe\">\n",
              "  <thead>\n",
              "    <tr style=\"text-align: right;\">\n",
              "      <th></th>\n",
              "      <th>stu_hrs</th>\n",
              "      <th>stu_marks</th>\n",
              "    </tr>\n",
              "  </thead>\n",
              "  <tbody>\n",
              "    <tr>\n",
              "      <th>0</th>\n",
              "      <td>5.67</td>\n",
              "      <td>74.40</td>\n",
              "    </tr>\n",
              "    <tr>\n",
              "      <th>1</th>\n",
              "      <td>6.76</td>\n",
              "      <td>78.70</td>\n",
              "    </tr>\n",
              "    <tr>\n",
              "      <th>2</th>\n",
              "      <td>8.45</td>\n",
              "      <td>79.45</td>\n",
              "    </tr>\n",
              "    <tr>\n",
              "      <th>3</th>\n",
              "      <td>5.56</td>\n",
              "      <td>65.43</td>\n",
              "    </tr>\n",
              "    <tr>\n",
              "      <th>4</th>\n",
              "      <td>NaN</td>\n",
              "      <td>73.23</td>\n",
              "    </tr>\n",
              "  </tbody>\n",
              "</table>\n",
              "</div>"
            ],
            "text/plain": [
              "   stu_hrs  stu_marks\n",
              "0     5.67      74.40\n",
              "1     6.76      78.70\n",
              "2     8.45      79.45\n",
              "3     5.56      65.43\n",
              "4      NaN      73.23"
            ]
          },
          "metadata": {
            "tags": []
          },
          "execution_count": 4
        }
      ]
    },
    {
      "cell_type": "code",
      "metadata": {
        "colab": {
          "base_uri": "https://localhost:8080/"
        },
        "id": "5haT5jklp3sl",
        "outputId": "4c70c22b-c375-4d44-b402-8e822ba6e084"
      },
      "source": [
        "df.shape"
      ],
      "execution_count": null,
      "outputs": [
        {
          "output_type": "execute_result",
          "data": {
            "text/plain": [
              "(133, 2)"
            ]
          },
          "metadata": {
            "tags": []
          },
          "execution_count": 5
        }
      ]
    },
    {
      "cell_type": "code",
      "metadata": {
        "colab": {
          "base_uri": "https://localhost:8080/"
        },
        "id": "TbKD4w2Rp9xL",
        "outputId": "0a02c47b-17a6-443f-8356-f84ad3fc5d24"
      },
      "source": [
        "df.info()"
      ],
      "execution_count": null,
      "outputs": [
        {
          "output_type": "stream",
          "text": [
            "<class 'pandas.core.frame.DataFrame'>\n",
            "RangeIndex: 133 entries, 0 to 132\n",
            "Data columns (total 2 columns):\n",
            " #   Column     Non-Null Count  Dtype  \n",
            "---  ------     --------------  -----  \n",
            " 0   stu_hrs    130 non-null    float64\n",
            " 1   stu_marks  133 non-null    float64\n",
            "dtypes: float64(2)\n",
            "memory usage: 2.2 KB\n"
          ],
          "name": "stdout"
        }
      ]
    },
    {
      "cell_type": "code",
      "metadata": {
        "colab": {
          "base_uri": "https://localhost:8080/",
          "height": 284
        },
        "id": "Gt5RI9ddqGbx",
        "outputId": "c19f14c0-3794-4145-98d9-c7bcd6c6014e"
      },
      "source": [
        "df.describe()"
      ],
      "execution_count": null,
      "outputs": [
        {
          "output_type": "execute_result",
          "data": {
            "text/html": [
              "<div>\n",
              "<style scoped>\n",
              "    .dataframe tbody tr th:only-of-type {\n",
              "        vertical-align: middle;\n",
              "    }\n",
              "\n",
              "    .dataframe tbody tr th {\n",
              "        vertical-align: top;\n",
              "    }\n",
              "\n",
              "    .dataframe thead th {\n",
              "        text-align: right;\n",
              "    }\n",
              "</style>\n",
              "<table border=\"1\" class=\"dataframe\">\n",
              "  <thead>\n",
              "    <tr style=\"text-align: right;\">\n",
              "      <th></th>\n",
              "      <th>stu_hrs</th>\n",
              "      <th>stu_marks</th>\n",
              "    </tr>\n",
              "  </thead>\n",
              "  <tbody>\n",
              "    <tr>\n",
              "      <th>count</th>\n",
              "      <td>130.000000</td>\n",
              "      <td>133.000000</td>\n",
              "    </tr>\n",
              "    <tr>\n",
              "      <th>mean</th>\n",
              "      <td>7.418400</td>\n",
              "      <td>77.284947</td>\n",
              "    </tr>\n",
              "    <tr>\n",
              "      <th>std</th>\n",
              "      <td>1.316918</td>\n",
              "      <td>10.429882</td>\n",
              "    </tr>\n",
              "    <tr>\n",
              "      <th>min</th>\n",
              "      <td>4.760000</td>\n",
              "      <td>54.450000</td>\n",
              "    </tr>\n",
              "    <tr>\n",
              "      <th>25%</th>\n",
              "      <td>6.350500</td>\n",
              "      <td>69.990000</td>\n",
              "    </tr>\n",
              "    <tr>\n",
              "      <th>50%</th>\n",
              "      <td>7.365000</td>\n",
              "      <td>78.430000</td>\n",
              "    </tr>\n",
              "    <tr>\n",
              "      <th>75%</th>\n",
              "      <td>8.450000</td>\n",
              "      <td>84.760000</td>\n",
              "    </tr>\n",
              "    <tr>\n",
              "      <th>max</th>\n",
              "      <td>10.450000</td>\n",
              "      <td>96.443000</td>\n",
              "    </tr>\n",
              "  </tbody>\n",
              "</table>\n",
              "</div>"
            ],
            "text/plain": [
              "          stu_hrs   stu_marks\n",
              "count  130.000000  133.000000\n",
              "mean     7.418400   77.284947\n",
              "std      1.316918   10.429882\n",
              "min      4.760000   54.450000\n",
              "25%      6.350500   69.990000\n",
              "50%      7.365000   78.430000\n",
              "75%      8.450000   84.760000\n",
              "max     10.450000   96.443000"
            ]
          },
          "metadata": {
            "tags": []
          },
          "execution_count": 7
        }
      ]
    },
    {
      "cell_type": "code",
      "metadata": {
        "colab": {
          "base_uri": "https://localhost:8080/",
          "height": 295
        },
        "id": "T9r2cWZsqaIK",
        "outputId": "50d45cc4-11c9-4542-983e-2f1a2467e677"
      },
      "source": [
        "plt.scatter(x = df.stu_hrs , y = df.stu_marks)\n",
        "plt.xlabel(\"Students Study Hours\")\n",
        "plt.ylabel(\"Students Marks\")\n",
        "plt.title(\"Scatter plot of students study hours vs students marks\")\n",
        "plt.show()"
      ],
      "execution_count": null,
      "outputs": [
        {
          "output_type": "display_data",
          "data": {
            "image/png": "[encoded data removed]",
            "text/plain": [
              "<Figure size 432x288 with 1 Axes>"
            ]
          },
          "metadata": {
            "tags": [],
            "needs_background": "light"
          }
        }
      ]
    },
    {
      "cell_type": "code",
      "metadata": {
        "id": "I9F4Qv6xracj"
      },
      "source": [
        "# data cleaning "
      ],
      "execution_count": null,
      "outputs": []
    },
    {
      "cell_type": "code",
      "metadata": {
        "colab": {
          "base_uri": "https://localhost:8080/"
        },
        "id": "19yr-UD7rn24",
        "outputId": "5b11d5c3-dea7-46a4-871a-0524dde4078b"
      },
      "source": [
        "df.isnull().sum()"
      ],
      "execution_count": null,
      "outputs": [
        {
          "output_type": "execute_result",
          "data": {
            "text/plain": [
              "stu_hrs      3\n",
              "stu_marks    0\n",
              "dtype: int64"
            ]
          },
          "metadata": {
            "tags": []
          },
          "execution_count": 10
        }
      ]
    },
    {
      "cell_type": "code",
      "metadata": {
        "colab": {
          "base_uri": "https://localhost:8080/"
        },
        "id": "iwFiYfUFr54H",
        "outputId": "cd6b6fb6-b724-4820-c0d6-b723449fb3c0"
      },
      "source": [
        "df.mean()"
      ],
      "execution_count": null,
      "outputs": [
        {
          "output_type": "execute_result",
          "data": {
            "text/plain": [
              "stu_hrs       7.418400\n",
              "stu_marks    77.284947\n",
              "dtype: float64"
            ]
          },
          "metadata": {
            "tags": []
          },
          "execution_count": 11
        }
      ]
    },
    {
      "cell_type": "code",
      "metadata": {
        "id": "1l_FLuyKsAUx"
      },
      "source": [
        "df2 = df.fillna(df.mean())"
      ],
      "execution_count": null,
      "outputs": []
    },
    {
      "cell_type": "code",
      "metadata": {
        "colab": {
          "base_uri": "https://localhost:8080/"
        },
        "id": "01F-AjNusUKg",
        "outputId": "92b0ef43-d878-4205-f33f-3e1b81ce18af"
      },
      "source": [
        "df2.isnull().sum()"
      ],
      "execution_count": null,
      "outputs": [
        {
          "output_type": "execute_result",
          "data": {
            "text/plain": [
              "stu_hrs      0\n",
              "stu_marks    0\n",
              "dtype: int64"
            ]
          },
          "metadata": {
            "tags": []
          },
          "execution_count": 14
        }
      ]
    },
    {
      "cell_type": "code",
      "metadata": {
        "colab": {
          "base_uri": "https://localhost:8080/",
          "height": 195
        },
        "id": "bMlMfyu4scOo",
        "outputId": "7ea053d5-1c15-4e20-983e-b428c4110888"
      },
      "source": [
        "df2.head()"
      ],
      "execution_count": null,
      "outputs": [
        {
          "output_type": "execute_result",
          "data": {
            "text/html": [
              "<div>\n",
              "<style scoped>\n",
              "    .dataframe tbody tr th:only-of-type {\n",
              "        vertical-align: middle;\n",
              "    }\n",
              "\n",
              "    .dataframe tbody tr th {\n",
              "        vertical-align: top;\n",
              "    }\n",
              "\n",
              "    .dataframe thead th {\n",
              "        text-align: right;\n",
              "    }\n",
              "</style>\n",
              "<table border=\"1\" class=\"dataframe\">\n",
              "  <thead>\n",
              "    <tr style=\"text-align: right;\">\n",
              "      <th></th>\n",
              "      <th>stu_hrs</th>\n",
              "      <th>stu_marks</th>\n",
              "    </tr>\n",
              "  </thead>\n",
              "  <tbody>\n",
              "    <tr>\n",
              "      <th>0</th>\n",
              "      <td>5.6700</td>\n",
              "      <td>74.40</td>\n",
              "    </tr>\n",
              "    <tr>\n",
              "      <th>1</th>\n",
              "      <td>6.7600</td>\n",
              "      <td>78.70</td>\n",
              "    </tr>\n",
              "    <tr>\n",
              "      <th>2</th>\n",
              "      <td>8.4500</td>\n",
              "      <td>79.45</td>\n",
              "    </tr>\n",
              "    <tr>\n",
              "      <th>3</th>\n",
              "      <td>5.5600</td>\n",
              "      <td>65.43</td>\n",
              "    </tr>\n",
              "    <tr>\n",
              "      <th>4</th>\n",
              "      <td>7.4184</td>\n",
              "      <td>73.23</td>\n",
              "    </tr>\n",
              "  </tbody>\n",
              "</table>\n",
              "</div>"
            ],
            "text/plain": [
              "   stu_hrs  stu_marks\n",
              "0   5.6700      74.40\n",
              "1   6.7600      78.70\n",
              "2   8.4500      79.45\n",
              "3   5.5600      65.43\n",
              "4   7.4184      73.23"
            ]
          },
          "metadata": {
            "tags": []
          },
          "execution_count": 15
        }
      ]
    },
    {
      "cell_type": "code",
      "metadata": {
        "id": "nUGPQBLssiEa"
      },
      "source": [
        "#split data"
      ],
      "execution_count": null,
      "outputs": []
    },
    {
      "cell_type": "code",
      "metadata": {
        "colab": {
          "base_uri": "https://localhost:8080/"
        },
        "id": "2Nh6c1YMstia",
        "outputId": "937f6d52-fa93-47a2-89cd-632a75a49f0e"
      },
      "source": [
        "X =df2.drop(\"stu_marks\", axis = \"columns\")  \n",
        "y =df2.drop(\"stu_hrs\", axis = \"columns\")\n",
        "print(\"shape of X = \", X.shape)\n",
        "print(\"shape of y = \", y.shape)"
      ],
      "execution_count": null,
      "outputs": [
        {
          "output_type": "stream",
          "text": [
            "shape of X =  (133, 1)\n",
            "shape of y =  (133, 1)\n"
          ],
          "name": "stdout"
        }
      ]
    },
    {
      "cell_type": "code",
      "metadata": {
        "id": "Xw60FEj8tyrT"
      },
      "source": [
        "import sklearn"
      ],
      "execution_count": null,
      "outputs": []
    },
    {
      "cell_type": "code",
      "metadata": {
        "colab": {
          "base_uri": "https://localhost:8080/"
        },
        "id": "nSSo2nWDuUX7",
        "outputId": "85e3b867-dbb2-4ffd-9908-59f2fcdbf0c4"
      },
      "source": [
        "from sklearn.model_selection import train_test_split\n",
        "X_train , X_test, y_train, y_test   = train_test_split(X,y, test_size = 0.2 , random_state=51)\n",
        "print(\"shape of X_train  : \", X_train.shape)\n",
        "print(\"shape of y_train  : \", y_train.shape)\n",
        "print(\"shape of X_test   : \", X_test.shape)\n",
        "print(\"shape of y_test   : \", y_test.shape)"
      ],
      "execution_count": null,
      "outputs": [
        {
          "output_type": "stream",
          "text": [
            "shape of X_train  :  (106, 1)\n",
            "shape of y_train  :  (106, 1)\n",
            "shape of X_test   :  (27, 1)\n",
            "shape of y_test   :  (27, 1)\n"
          ],
          "name": "stdout"
        }
      ]
    },
    {
      "cell_type": "code",
      "metadata": {
        "id": "cC02QcdRyjpv"
      },
      "source": [
        "from sklearn.linear_model import LinearRegression\n",
        "lr = LinearRegression()"
      ],
      "execution_count": null,
      "outputs": []
    },
    {
      "cell_type": "code",
      "metadata": {
        "colab": {
          "base_uri": "https://localhost:8080/"
        },
        "id": "cB8dmztdzaVF",
        "outputId": "a1c09ec9-f2c8-4e0a-e1b5-8e1b11e0ba6f"
      },
      "source": [
        "lr.fit(X_train,y_train)"
      ],
      "execution_count": null,
      "outputs": [
        {
          "output_type": "execute_result",
          "data": {
            "text/plain": [
              "LinearRegression(copy_X=True, fit_intercept=True, n_jobs=None, normalize=False)"
            ]
          },
          "metadata": {
            "tags": []
          },
          "execution_count": 27
        }
      ]
    },
    {
      "cell_type": "code",
      "metadata": {
        "colab": {
          "base_uri": "https://localhost:8080/"
        },
        "id": "W4CZXlFQz7NF",
        "outputId": "f221a7a2-2b9a-4453-b46a-0a2d00d61369"
      },
      "source": [
        "lr.coef_ #this is value of m"
      ],
      "execution_count": null,
      "outputs": [
        {
          "output_type": "execute_result",
          "data": {
            "text/plain": [
              "array([[6.74647869]])"
            ]
          },
          "metadata": {
            "tags": []
          },
          "execution_count": 30
        }
      ]
    },
    {
      "cell_type": "code",
      "metadata": {
        "colab": {
          "base_uri": "https://localhost:8080/"
        },
        "id": "J4VetcO40HeI",
        "outputId": "12b0dba3-b7a9-4b27-be76-3aec592cd521"
      },
      "source": [
        "lr.intercept_ #this is value of c "
      ],
      "execution_count": null,
      "outputs": [
        {
          "output_type": "execute_result",
          "data": {
            "text/plain": [
              "array([26.96856907])"
            ]
          },
          "metadata": {
            "tags": []
          },
          "execution_count": 31
        }
      ]
    },
    {
      "cell_type": "code",
      "metadata": {
        "colab": {
          "base_uri": "https://localhost:8080/"
        },
        "id": "DDIEh8ZP0Uid",
        "outputId": "bebaba69-11fb-4d4a-ad9e-a1e2748e565e"
      },
      "source": [
        "lr.predict([[4]])[0][0].round(2)"
      ],
      "execution_count": null,
      "outputs": [
        {
          "output_type": "execute_result",
          "data": {
            "text/plain": [
              "53.95"
            ]
          },
          "metadata": {
            "tags": []
          },
          "execution_count": 35
        }
      ]
    },
    {
      "cell_type": "code",
      "metadata": {
        "colab": {
          "base_uri": "https://localhost:8080/"
        },
        "id": "u-S9h8M71DM8",
        "outputId": "8c3b0a39-e55b-433f-82b9-cb01bbd3fb6c"
      },
      "source": [
        "y_pred = lr.predict(X_test)\n",
        "y_pred"
      ],
      "execution_count": null,
      "outputs": [
        {
          "output_type": "execute_result",
          "data": {
            "text/plain": [
              "array([[69.20152569],\n",
              "       [66.09814549],\n",
              "       [82.62701829],\n",
              "       [85.66293371],\n",
              "       [71.96758196],\n",
              "       [90.72279273],\n",
              "       [77.01664661],\n",
              "       [79.79349724],\n",
              "       [64.47899061],\n",
              "       [83.77391967],\n",
              "       [66.570399  ],\n",
              "       [78.03941278],\n",
              "       [83.03180702],\n",
              "       [70.22699046],\n",
              "       [81.41265213],\n",
              "       [89.23856742],\n",
              "       [84.17870839],\n",
              "       [83.97631403],\n",
              "       [67.78476517],\n",
              "       [86.27011679],\n",
              "       [62.58997657],\n",
              "       [63.93927231],\n",
              "       [72.37237068],\n",
              "       [79.25377895],\n",
              "       [84.92082105],\n",
              "       [77.49969449],\n",
              "       [72.50730025]])"
            ]
          },
          "metadata": {
            "tags": []
          },
          "execution_count": 36
        }
      ]
    },
    {
      "cell_type": "code",
      "metadata": {
        "colab": {
          "base_uri": "https://localhost:8080/",
          "height": 846
        },
        "id": "s6Tbwdhn1ZTz",
        "outputId": "9e3047fc-dccc-403a-fac1-f45ef945c84f"
      },
      "source": [
        "pd.DataFrame(np.c_[X_test, y_test, y_pred], columns =[\"stu_hrs\", \"stu_org_marks\",\"stu_marks_predicted\"])"
      ],
      "execution_count": null,
      "outputs": [
        {
          "output_type": "execute_result",
          "data": {
            "text/html": [
              "<div>\n",
              "<style scoped>\n",
              "    .dataframe tbody tr th:only-of-type {\n",
              "        vertical-align: middle;\n",
              "    }\n",
              "\n",
              "    .dataframe tbody tr th {\n",
              "        vertical-align: top;\n",
              "    }\n",
              "\n",
              "    .dataframe thead th {\n",
              "        text-align: right;\n",
              "    }\n",
              "</style>\n",
              "<table border=\"1\" class=\"dataframe\">\n",
              "  <thead>\n",
              "    <tr style=\"text-align: right;\">\n",
              "      <th></th>\n",
              "      <th>stu_hrs</th>\n",
              "      <th>stu_org_marks</th>\n",
              "      <th>stu_marks_predicted</th>\n",
              "    </tr>\n",
              "  </thead>\n",
              "  <tbody>\n",
              "    <tr>\n",
              "      <th>0</th>\n",
              "      <td>6.2600</td>\n",
              "      <td>70.32</td>\n",
              "      <td>69.201526</td>\n",
              "    </tr>\n",
              "    <tr>\n",
              "      <th>1</th>\n",
              "      <td>5.8000</td>\n",
              "      <td>58.00</td>\n",
              "      <td>66.098145</td>\n",
              "    </tr>\n",
              "    <tr>\n",
              "      <th>2</th>\n",
              "      <td>8.2500</td>\n",
              "      <td>82.32</td>\n",
              "      <td>82.627018</td>\n",
              "    </tr>\n",
              "    <tr>\n",
              "      <th>3</th>\n",
              "      <td>8.7000</td>\n",
              "      <td>90.43</td>\n",
              "      <td>85.662934</td>\n",
              "    </tr>\n",
              "    <tr>\n",
              "      <th>4</th>\n",
              "      <td>6.6700</td>\n",
              "      <td>66.79</td>\n",
              "      <td>71.967582</td>\n",
              "    </tr>\n",
              "    <tr>\n",
              "      <th>5</th>\n",
              "      <td>9.4500</td>\n",
              "      <td>92.21</td>\n",
              "      <td>90.722793</td>\n",
              "    </tr>\n",
              "    <tr>\n",
              "      <th>6</th>\n",
              "      <td>7.4184</td>\n",
              "      <td>73.23</td>\n",
              "      <td>77.016647</td>\n",
              "    </tr>\n",
              "    <tr>\n",
              "      <th>7</th>\n",
              "      <td>7.8300</td>\n",
              "      <td>79.54</td>\n",
              "      <td>79.793497</td>\n",
              "    </tr>\n",
              "    <tr>\n",
              "      <th>8</th>\n",
              "      <td>5.5600</td>\n",
              "      <td>54.45</td>\n",
              "      <td>64.478991</td>\n",
              "    </tr>\n",
              "    <tr>\n",
              "      <th>9</th>\n",
              "      <td>8.4200</td>\n",
              "      <td>84.43</td>\n",
              "      <td>83.773920</td>\n",
              "    </tr>\n",
              "    <tr>\n",
              "      <th>10</th>\n",
              "      <td>5.8700</td>\n",
              "      <td>67.43</td>\n",
              "      <td>66.570399</td>\n",
              "    </tr>\n",
              "    <tr>\n",
              "      <th>11</th>\n",
              "      <td>7.5700</td>\n",
              "      <td>75.70</td>\n",
              "      <td>78.039413</td>\n",
              "    </tr>\n",
              "    <tr>\n",
              "      <th>12</th>\n",
              "      <td>8.3100</td>\n",
              "      <td>89.43</td>\n",
              "      <td>83.031807</td>\n",
              "    </tr>\n",
              "    <tr>\n",
              "      <th>13</th>\n",
              "      <td>6.4120</td>\n",
              "      <td>76.54</td>\n",
              "      <td>70.226990</td>\n",
              "    </tr>\n",
              "    <tr>\n",
              "      <th>14</th>\n",
              "      <td>8.0700</td>\n",
              "      <td>80.75</td>\n",
              "      <td>81.412652</td>\n",
              "    </tr>\n",
              "    <tr>\n",
              "      <th>15</th>\n",
              "      <td>9.2300</td>\n",
              "      <td>91.32</td>\n",
              "      <td>89.238567</td>\n",
              "    </tr>\n",
              "    <tr>\n",
              "      <th>16</th>\n",
              "      <td>8.4800</td>\n",
              "      <td>84.83</td>\n",
              "      <td>84.178708</td>\n",
              "    </tr>\n",
              "    <tr>\n",
              "      <th>17</th>\n",
              "      <td>8.4500</td>\n",
              "      <td>84.54</td>\n",
              "      <td>83.976314</td>\n",
              "    </tr>\n",
              "    <tr>\n",
              "      <th>18</th>\n",
              "      <td>6.0500</td>\n",
              "      <td>71.45</td>\n",
              "      <td>67.784765</td>\n",
              "    </tr>\n",
              "    <tr>\n",
              "      <th>19</th>\n",
              "      <td>8.7900</td>\n",
              "      <td>87.90</td>\n",
              "      <td>86.270117</td>\n",
              "    </tr>\n",
              "    <tr>\n",
              "      <th>20</th>\n",
              "      <td>5.2800</td>\n",
              "      <td>75.43</td>\n",
              "      <td>62.589977</td>\n",
              "    </tr>\n",
              "    <tr>\n",
              "      <th>21</th>\n",
              "      <td>5.4800</td>\n",
              "      <td>68.65</td>\n",
              "      <td>63.939272</td>\n",
              "    </tr>\n",
              "    <tr>\n",
              "      <th>22</th>\n",
              "      <td>6.7300</td>\n",
              "      <td>67.30</td>\n",
              "      <td>72.372371</td>\n",
              "    </tr>\n",
              "    <tr>\n",
              "      <th>23</th>\n",
              "      <td>7.7500</td>\n",
              "      <td>81.67</td>\n",
              "      <td>79.253779</td>\n",
              "    </tr>\n",
              "    <tr>\n",
              "      <th>24</th>\n",
              "      <td>8.5900</td>\n",
              "      <td>87.43</td>\n",
              "      <td>84.920821</td>\n",
              "    </tr>\n",
              "    <tr>\n",
              "      <th>25</th>\n",
              "      <td>7.4900</td>\n",
              "      <td>88.54</td>\n",
              "      <td>77.499694</td>\n",
              "    </tr>\n",
              "    <tr>\n",
              "      <th>26</th>\n",
              "      <td>6.7500</td>\n",
              "      <td>80.21</td>\n",
              "      <td>72.507300</td>\n",
              "    </tr>\n",
              "  </tbody>\n",
              "</table>\n",
              "</div>"
            ],
            "text/plain": [
              "    stu_hrs  stu_org_marks  stu_marks_predicted\n",
              "0    6.2600          70.32            69.201526\n",
              "1    5.8000          58.00            66.098145\n",
              "2    8.2500          82.32            82.627018\n",
              "3    8.7000          90.43            85.662934\n",
              "4    6.6700          66.79            71.967582\n",
              "5    9.4500          92.21            90.722793\n",
              "6    7.4184          73.23            77.016647\n",
              "7    7.8300          79.54            79.793497\n",
              "8    5.5600          54.45            64.478991\n",
              "9    8.4200          84.43            83.773920\n",
              "10   5.8700          67.43            66.570399\n",
              "11   7.5700          75.70            78.039413\n",
              "12   8.3100          89.43            83.031807\n",
              "13   6.4120          76.54            70.226990\n",
              "14   8.0700          80.75            81.412652\n",
              "15   9.2300          91.32            89.238567\n",
              "16   8.4800          84.83            84.178708\n",
              "17   8.4500          84.54            83.976314\n",
              "18   6.0500          71.45            67.784765\n",
              "19   8.7900          87.90            86.270117\n",
              "20   5.2800          75.43            62.589977\n",
              "21   5.4800          68.65            63.939272\n",
              "22   6.7300          67.30            72.372371\n",
              "23   7.7500          81.67            79.253779\n",
              "24   8.5900          87.43            84.920821\n",
              "25   7.4900          88.54            77.499694\n",
              "26   6.7500          80.21            72.507300"
            ]
          },
          "metadata": {
            "tags": []
          },
          "execution_count": 37
        }
      ]
    },
    {
      "cell_type": "markdown",
      "metadata": {
        "id": "ZLm2KQoC23oU"
      },
      "source": [
        "## fine tune method"
      ]
    },
    {
      "cell_type": "code",
      "metadata": {
        "colab": {
          "base_uri": "https://localhost:8080/"
        },
        "id": "IgGoMzJX2ghi",
        "outputId": "f0349d59-01fc-4293-bc51-88b6cdf469ac"
      },
      "source": [
        "lr.score(X_test,y_test)"
      ],
      "execution_count": null,
      "outputs": [
        {
          "output_type": "execute_result",
          "data": {
            "text/plain": [
              "0.719742775939503"
            ]
          },
          "metadata": {
            "tags": []
          },
          "execution_count": 38
        }
      ]
    },
    {
      "cell_type": "code",
      "metadata": {
        "colab": {
          "base_uri": "https://localhost:8080/",
          "height": 282
        },
        "id": "UlgRZun03Sy1",
        "outputId": "49298a2d-ae07-4708-be9a-593db61b7a1d"
      },
      "source": [
        "plt.scatter(X_train,y_train)"
      ],
      "execution_count": null,
      "outputs": [
        {
          "output_type": "execute_result",
          "data": {
            "text/plain": [
              "<matplotlib.collections.PathCollection at 0x7f594ac94d50>"
            ]
          },
          "metadata": {
            "tags": []
          },
          "execution_count": 39
        },
        {
          "output_type": "display_data",
          "data": {
            "image/png": "[encoded data removed]",
            "text/plain": [
              "<Figure size 432x288 with 1 Axes>"
            ]
          },
          "metadata": {
            "tags": [],
            "needs_background": "light"
          }
        }
      ]
    },
    {
      "cell_type": "code",
      "metadata": {
        "colab": {
          "base_uri": "https://localhost:8080/",
          "height": 282
        },
        "id": "BFqC85y53dQ4",
        "outputId": "62dc3f46-7bf1-4358-9a6e-c6673fb5d0fd"
      },
      "source": [
        "plt.scatter(X_test,y_test)\n",
        "plt.plot(X_train, lr.predict(X_train), color = \"r\")"
      ],
      "execution_count": null,
      "outputs": [
        {
          "output_type": "execute_result",
          "data": {
            "text/plain": [
              "[<matplotlib.lines.Line2D at 0x7f594abc9b10>]"
            ]
          },
          "metadata": {
            "tags": []
          },
          "execution_count": 40
        },
        {
          "output_type": "display_data",
          "data": {
            "image/png": "[encoded data removed]",
            "text/plain": [
              "<Figure size 432x288 with 1 Axes>"
            ]
          },
          "metadata": {
            "tags": [],
            "needs_background": "light"
          }
        }
      ]
    },
    {
      "cell_type": "markdown",
      "metadata": {
        "id": "LVFSYcf64exB"
      },
      "source": [
        "## save model"
      ]
    },
    {
      "cell_type": "code",
      "metadata": {
        "colab": {
          "base_uri": "https://localhost:8080/"
        },
        "id": "QTSjsP-Y4I7b",
        "outputId": "09dd1d66-6d5a-4926-f74b-8cb58ae26472"
      },
      "source": [
        "import joblib\n",
        "joblib.dump(lr, \"student_marks_predictor_model.pkl\")  "
      ],
      "execution_count": null,
      "outputs": [
        {
          "output_type": "execute_result",
          "data": {
            "text/plain": [
              "['student_marks_predictor_model.pkl']"
            ]
          },
          "metadata": {
            "tags": []
          },
          "execution_count": 41
        }
      ]
    },
    {
      "cell_type": "code",
      "metadata": {
        "id": "x-ymlkXo5axk"
      },
      "source": [
        "model = joblib.load(\"student_marks_predictor_model.pkl\")"
      ],
      "execution_count": null,
      "outputs": []
    },
    {
      "cell_type": "code",
      "metadata": {
        "colab": {
          "base_uri": "https://localhost:8080/"
        },
        "id": "GdqKBDuw5nBq",
        "outputId": "2236d50a-dd5d-4c6b-9217-2153d123f37d"
      },
      "source": [
        "model.predict([[0.2]])[0][0].round(2)"
      ],
      "execution_count": null,
      "outputs": [
        {
          "output_type": "execute_result",
          "data": {
            "text/plain": [
              "28.32"
            ]
          },
          "metadata": {
            "tags": []
          },
          "execution_count": 48
        }
      ]
    }
  ]
}